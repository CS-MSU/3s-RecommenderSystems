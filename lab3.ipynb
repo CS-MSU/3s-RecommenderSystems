{
 "cells": [
  {
   "cell_type": "markdown",
   "metadata": {},
   "source": [
    "\n",
    "## Гибридные рекомендательные системы с Surprise: взвешенный подход\n",
    "\n",
    "Дедлайн 1: 18 октября. Дедлайн 2 (максимальная оценка - 1 балл) 25 октября\n",
    "\n",
    "### Мы используем Suprise (пакет sci-kit для рекомендательных систем), чтобы гарантировать, что рекомендательные системы, которые мы используем, оптимизированы, чтобы когда мы объединили их - не беспокоились о недостатках, возникающих в отдельной реализации. "
   ]
  },
  {
   "cell_type": "code",
   "execution_count": 1,
   "metadata": {
    "_cell_guid": "b1076dfc-b9ad-4769-8c92-a6c4dae69d19",
    "_uuid": "8f2839f25d086af736a60e9eeb907d3b93b6e0e5"
   },
   "outputs": [],
   "source": [
    "import surprise\n",
    "import numpy as np \n",
    "import pandas as pd \n",
    "from sklearn.model_selection import train_test_split\n",
    "import os\n",
    "# path = \"/\"\n",
    "#print(os.listdir(path))"
   ]
  },
  {
   "cell_type": "markdown",
   "metadata": {},
   "source": [
    "Во-первых, давайте прочитаем и очистим набор данных, чтобы мы знали, с чем работаем.\n",
    "1. Считайте pandas датафрейм ratings.csv\n",
    "2. Удалите дублированные строки\n",
    "3. Сколько уникальных книг и пользователей в датасете?\n",
    "4. В каком интервале рейтинг?"
   ]
  },
  {
   "cell_type": "markdown",
   "metadata": {},
   "source": [
    "Всякий раз, когда вы загружаете набор данных в Surprise, вы можете использовать их класс Reader набора данных, который облегчает большую часть проблем. Вы можете указать множество форматов файлов, но для фреймов данных pandas, которые мы используем, вы можете указать некоторые параметры для рейтинга (rating_scale) и датафрейма."
   ]
  },
  {
   "cell_type": "code",
   "execution_count": 2,
   "metadata": {},
   "outputs": [
    {
     "name": "stdout",
     "output_type": "stream",
     "text": [
      "Unique books:  10000\n",
      "Rating interval:  1  -  5\n"
     ]
    }
   ],
   "source": [
    "raw = pd.read_csv('dataset/ratings.csv')\n",
    "raw.drop_duplicates(inplace=True)\n",
    "print(\"Unique books: \", raw.book_id.unique().shape[0])\n",
    "print(\"Rating interval: \", raw['rating'].min(), \" - \", raw['rating'].max())"
   ]
  },
  {
   "cell_type": "code",
   "execution_count": 3,
   "metadata": {},
   "outputs": [],
   "source": [
    "#порядок колонок должен быть таким\n",
    "raw=raw[['user_id','book_id','rating']] \n",
    "raw.columns = ['n_users','n_items','rating']\n",
    "\n",
    "# укажем scale для рейтинга\n",
    "reader = surprise.Reader(rating_scale=(1, 5)) \n",
    "\n",
    "# разделите на основную и отложенную выборки в соотножении 3:1\n",
    "# и загрузите в surprise dataset:\n",
    "rawTrain,rawholdout = train_test_split(raw, test_size=0.25, random_state=42)\n",
    "data = surprise.Dataset.load_from_df(raw, reader)\n",
    "holdout = surprise.Dataset.load_from_df(raw, reader)"
   ]
  },
  {
   "cell_type": "markdown",
   "metadata": {},
   "source": [
    "\n",
    "### Во-первых, выберем несколько алгоритмов для включения в наш ансамбль. Это будут\n",
    "1. KNN совместная фильтрация \n",
    "2. Матричная факторизация\n",
    "3. Совместная фильтрация с кластеризацией\n",
    "4. Совместная фильтрация на основе алгоритма Slope One. (http://wiki-org.ru/wiki/Slope_One)"
   ]
  },
  {
   "cell_type": "markdown",
   "metadata": {},
   "source": [
    "## KNN колаборативная фильтрация:"
   ]
  },
  {
   "cell_type": "code",
   "execution_count": 4,
   "metadata": {},
   "outputs": [],
   "source": [
    "kSplit = surprise.model_selection.split.KFold(n_splits=10, shuffle=True) # разбиваем данные на фолды"
   ]
  },
  {
   "cell_type": "markdown",
   "metadata": {},
   "source": [
    "Задайте параметр sim_options на основании косинусной меры, и с подходом user-based ('user_based': False)"
   ]
  },
  {
   "cell_type": "code",
   "execution_count": 5,
   "metadata": {},
   "outputs": [],
   "source": [
    "sim_options = sim_options = {\n",
    "    'name': 'cosine',\n",
    "    'user_based': False\n",
    "    }\n",
    "collabKNN = surprise.KNNBasic(k=40, sim_options=sim_options)"
   ]
  },
  {
   "cell_type": "markdown",
   "metadata": {},
   "source": [
    "Обучите модель, предскажите значение на test выборке и запишите значение метрики на каждом фолде"
   ]
  },
  {
   "cell_type": "code",
   "execution_count": 6,
   "metadata": {},
   "outputs": [
    {
     "name": "stdout",
     "output_type": "stream",
     "text": [
      "Computing the cosine similarity matrix...\n",
      "Done computing similarity matrix.\n",
      "RMSE: 0.8886\n",
      "Computing the cosine similarity matrix...\n",
      "Done computing similarity matrix.\n",
      "RMSE: 0.8834\n",
      "Computing the cosine similarity matrix...\n",
      "Done computing similarity matrix.\n",
      "RMSE: 0.8872\n",
      "Computing the cosine similarity matrix...\n",
      "Done computing similarity matrix.\n",
      "RMSE: 0.8857\n",
      "Computing the cosine similarity matrix...\n",
      "Done computing similarity matrix.\n",
      "RMSE: 0.8809\n",
      "Computing the cosine similarity matrix...\n",
      "Done computing similarity matrix.\n",
      "RMSE: 0.8811\n",
      "Computing the cosine similarity matrix...\n",
      "Done computing similarity matrix.\n",
      "RMSE: 0.8860\n",
      "Computing the cosine similarity matrix...\n",
      "Done computing similarity matrix.\n",
      "RMSE: 0.8856\n",
      "Computing the cosine similarity matrix...\n",
      "Done computing similarity matrix.\n",
      "RMSE: 0.8849\n",
      "Computing the cosine similarity matrix...\n",
      "Done computing similarity matrix.\n",
      "RMSE: 0.8830\n"
     ]
    }
   ],
   "source": [
    "rmseKNN = []\n",
    "for trainset, testset in kSplit.split(data): #проходимся по фолдам\n",
    "    preds = collabKNN.fit(trainset).test(testset)\n",
    "    rmseKNN.append(surprise.accuracy.rmse(preds))\n"
   ]
  },
  {
   "cell_type": "code",
   "execution_count": 7,
   "metadata": {},
   "outputs": [
    {
     "data": {
      "text/plain": [
       "[0.8886062363667689,\n",
       " 0.8833548103523304,\n",
       " 0.8872466359877957,\n",
       " 0.8856732126815747,\n",
       " 0.8808736598623493,\n",
       " 0.8811486390779544,\n",
       " 0.8860065810583627,\n",
       " 0.8855656174456257,\n",
       " 0.8848815093834703,\n",
       " 0.8830311012544168]"
      ]
     },
     "execution_count": 7,
     "metadata": {},
     "output_type": "execute_result"
    }
   ],
   "source": [
    "rmseKNN"
   ]
  },
  {
   "cell_type": "markdown",
   "metadata": {},
   "source": [
    "### Вы можете пробовать разные гиперпараметры, используя Suprise Grid Search CV, чтобы найти наилучшие возможные гиперпараметры."
   ]
  },
  {
   "cell_type": "markdown",
   "metadata": {},
   "source": [
    "\n",
    "### Обучим наш алгоритм матричной факторизации с 30 скрытыми факторами (n_factors=30)\n"
   ]
  },
  {
   "cell_type": "code",
   "execution_count": 8,
   "metadata": {},
   "outputs": [],
   "source": [
    "funkSVD = surprise.prediction_algorithms.matrix_factorization.SVD(n_factors=30,n_epochs=10,biased=True)"
   ]
  },
  {
   "cell_type": "markdown",
   "metadata": {},
   "source": [
    "Обучите модель, предскажите значение на test выборке и запишите значение метрики на каждом фолде"
   ]
  },
  {
   "cell_type": "code",
   "execution_count": 9,
   "metadata": {},
   "outputs": [
    {
     "name": "stdout",
     "output_type": "stream",
     "text": [
      "RMSE: 0.8431\n",
      "RMSE: 0.8437\n",
      "RMSE: 0.8422\n",
      "RMSE: 0.8450\n",
      "RMSE: 0.8435\n",
      "RMSE: 0.8415\n",
      "RMSE: 0.8434\n",
      "RMSE: 0.8427\n",
      "RMSE: 0.8433\n",
      "RMSE: 0.8455\n"
     ]
    }
   ],
   "source": [
    "rmseSVD = []\n",
    "for trainset, testset in kSplit.split(data): #проходимся по фолдам\n",
    "    preds = funkSVD.fit(trainset).test(testset)\n",
    "    rmseSVD.append(surprise.accuracy.rmse(preds))"
   ]
  },
  {
   "cell_type": "code",
   "execution_count": 10,
   "metadata": {},
   "outputs": [
    {
     "data": {
      "text/plain": [
       "[0.8430914249883205,\n",
       " 0.843691701344714,\n",
       " 0.842224293433177,\n",
       " 0.8450406117872782,\n",
       " 0.8435131462762198,\n",
       " 0.841480409170166,\n",
       " 0.8433627211450564,\n",
       " 0.8427285812639573,\n",
       " 0.8432922282026537,\n",
       " 0.8455247063882737]"
      ]
     },
     "execution_count": 10,
     "metadata": {},
     "output_type": "execute_result"
    }
   ],
   "source": [
    "rmseSVD"
   ]
  },
  {
   "cell_type": "markdown",
   "metadata": {},
   "source": [
    "## Колаборативная фильтрация с кластеризацией"
   ]
  },
  {
   "cell_type": "markdown",
   "metadata": {},
   "source": [
    "\n",
    "Теперь используем совместную фильтрацию с кластеризацией.\n",
    "Совместная кластеризация - это объединение пользователей и элементов в кластеры с использованием методов кластеризации. Выделите три кластера. Чтобы получить прогнозируемый рейтинг, вам нужно будет суммировать три вещи:\n",
    "     1. Вы находите кластер для указанного рейтинга пользователя u и элемента i и определяете среднее значение этого кластера. Итак, вы найдете среднее значение кластера u_i.\n",
    "     2. Найдите среднее значение кластера элемента i и вычтите его из среднего рейтинга этого элемента.\n",
    "     3. Найдите среднее значение кластера пользователя u и вычтите его из среднего рейтинга этого пользователя.\n",
    "    \n",
    "Вы обнаружите, что для большинства из них RSME остается неизменным для всех K-фолдов."
   ]
  },
  {
   "cell_type": "markdown",
   "metadata": {},
   "source": [
    "Обучите модель, предскажите значение на test выборке и запишите значение метрики на каждом фолде"
   ]
  },
  {
   "cell_type": "code",
   "execution_count": 11,
   "metadata": {},
   "outputs": [
    {
     "name": "stdout",
     "output_type": "stream",
     "text": [
      "RMSE: 0.8704\n",
      "RMSE: 0.8753\n",
      "RMSE: 0.8732\n",
      "RMSE: 0.8705\n",
      "RMSE: 0.8729\n",
      "RMSE: 0.8750\n",
      "RMSE: 0.8681\n",
      "RMSE: 0.8759\n",
      "RMSE: 0.8710\n",
      "RMSE: 0.8702\n"
     ]
    }
   ],
   "source": [
    "coClus = surprise.prediction_algorithms.co_clustering.CoClustering(n_cltr_u=4,n_cltr_i=4,n_epochs=25) \n",
    "rmseCo = []\n",
    "for trainset, testset in kSplit.split(data): #проходимся по фолдам\n",
    "    preds = coClus.fit(trainset).test(testset)\n",
    "    rmseCo.append(surprise.accuracy.rmse(preds))"
   ]
  },
  {
   "cell_type": "markdown",
   "metadata": {},
   "source": [
    "## Slope One"
   ]
  },
  {
   "cell_type": "markdown",
   "metadata": {},
   "source": [
    "Обучая нашу последнюю модель, мы будем использовать алгоритм совместной фильтрации Slope One. Этот алгоритм вычисляет наклон (slope) каждого из релевантных элементов, оцененных пользователем, находит разницу, а затем вычисляет прогноз. Это грубый инструмент, но это хорошая эвристика, которая может улучшить наш метод ансамбля. Подробнее читайте здесь: https://arxiv.org/abs/cs/0702144."
   ]
  },
  {
   "cell_type": "markdown",
   "metadata": {},
   "source": [
    "Обучите модель, предскажите значение на test выборке и запишите значение метрики на каждом фолде"
   ]
  },
  {
   "cell_type": "code",
   "execution_count": 12,
   "metadata": {},
   "outputs": [],
   "source": [
    "slopeOne = surprise.prediction_algorithms.slope_one.SlopeOne()\n"
   ]
  },
  {
   "cell_type": "code",
   "execution_count": 13,
   "metadata": {},
   "outputs": [
    {
     "name": "stdout",
     "output_type": "stream",
     "text": [
      "RMSE: 0.8967\n",
      "RMSE: 0.8921\n",
      "RMSE: 0.8913\n",
      "RMSE: 0.8938\n",
      "RMSE: 0.8981\n",
      "RMSE: 0.8964\n",
      "RMSE: 0.8966\n",
      "RMSE: 0.8956\n",
      "RMSE: 0.8930\n",
      "RMSE: 0.8965\n"
     ]
    }
   ],
   "source": [
    "rmseSlope = []\n",
    "for trainset, testset in kSplit.split(data): \n",
    "    preds = slopeOne.fit(trainset).test(testset)\n",
    "    rmseSlope.append(surprise.accuracy.rmse(preds))"
   ]
  },
  {
   "cell_type": "markdown",
   "metadata": {},
   "source": [
    "Теперь у нас есть четыре рекомендательные системы, из которых мы хотим сделать ансамбль. Сначала давайте построим график каждого из них, чтобы увидеть, как они работают.\n",
    "\n",
    "Затем реализуем описанный алгоритм Ensemble для гибридного подхода."
   ]
  },
  {
   "cell_type": "code",
   "execution_count": 14,
   "metadata": {},
   "outputs": [
    {
     "data": {
      "text/plain": [
       "<matplotlib.legend.Legend at 0x28e4fdf10>"
      ]
     },
     "execution_count": 14,
     "metadata": {},
     "output_type": "execute_result"
    },
    {
     "data": {
      "image/png": "[encoded data removed]",
      "text/plain": [
       "<Figure size 432x288 with 1 Axes>"
      ]
     },
     "metadata": {
      "needs_background": "light"
     },
     "output_type": "display_data"
    }
   ],
   "source": [
    "#Отобразим предсказания:\n",
    "import matplotlib.pyplot as plt\n",
    "modelPrediction = plt.plot(rmseKNN,label='knn')\n",
    "modelPrediction = plt.plot(rmseSVD,label='svd')\n",
    "modelPrediction = plt.plot(rmseCo,label='cluster')\n",
    "modelPrediction = plt.plot(rmseSlope,label='slope')\n",
    "\n",
    "modelPrediction = plt.xlabel('folds')\n",
    "modelPrediction = plt.ylabel('rmse')\n",
    "plt.legend(bbox_to_anchor=(1.05, 1), loc=2, borderaxespad=0.)"
   ]
  },
  {
   "cell_type": "markdown",
   "metadata": {},
   "source": [
    "Похоже, что svd превосходит остальные. Попробуем гибридизировать модели, чтобы получить лучшие части каждой модели. Для этого мы собираемся использовать Suprise, чтобы создать новый алгоритм, и сделать так, чтобы он превосходил остальные."
   ]
  },
  {
   "cell_type": "markdown",
   "metadata": {},
   "source": [
    "\n",
    "# На псевдокоде наш алгоритм выглядит следующим образом:\n",
    "1. Мы запускаем несколько рекомендательных систем для набора данных.\n",
    "2. Инициализируем взвешенную переменную alpha равную 1 / q, где q - количество используемых нами рекомендательных систем.\n",
    "3. Итоговый рейтинг будем считать как сумму взвещаных прогнозируемых рейтингов.\n",
    "4. Используя градиентный спуск, оптимизируем альфа-член по пространству параметров, чтобы иметь возможность придать наибольший вес модели, которая может представлять лучший прогноз."
   ]
  },
  {
   "cell_type": "markdown",
   "metadata": {},
   "source": [
    "Теперь создадим класс в Surprise и унаследуем его от Algobase."
   ]
  },
  {
   "cell_type": "code",
   "execution_count": 15,
   "metadata": {},
   "outputs": [],
   "source": [
    "class HybridFacto(surprise.AlgoBase):\n",
    "    def __init__(self,epochs, learning_rate,q,estimators):\n",
    "        self.alpha = np.array([1/q]*q)\n",
    "        self.epochs = epochs\n",
    "        self.learning_rate = learning_rate\n",
    "        self.collabKNN = estimators[0]\n",
    "        self.funkSVD = estimators[1]\n",
    "        self.coClus = estimators[2]\n",
    "        self.slopeOne = estimators[3]\n",
    "    \n",
    "    def fit(self, train_set):\n",
    "        holdout=train_set.build_full_trainset().build_testset()\n",
    "        predictions = []\n",
    "        predictions.append(self.collabKNN.test(holdout))\n",
    "        predictions.append(self.funkSVD.test(holdout))\n",
    "        predictions.append(self.coClus.test(holdout))\n",
    "        predictions.append(self.slopeOne.test(holdout))\n",
    "        for epoch in range(self.epochs):\n",
    "            maeGradient = np.array([surprise.accuracy.mae(prediction) for prediction in predictions])\n",
    "            newalpha =  self.alpha - maeGradient * self.learning_rate\n",
    "            #проверка сходимости:\n",
    "            if (newalpha - self.alpha).max() < 0.001:\n",
    "                break\n",
    "            self.alpha = newalpha\n",
    "            \n",
    "    def estimate(self,testset):\n",
    "        algoResults=[np.array([i.est for i in collabKNN.test(testset)]),\n",
    "                     np.array([i.est for i in funkSVD.test(testset)]),\n",
    "                     np.array([i.est for i in coClus.test(testset)]),\n",
    "                     np.array([i.est for i in slopeOne.test(testset)])]\n",
    "        return self.alpha @ algoResults\n",
    "        "
   ]
  },
  {
   "cell_type": "markdown",
   "metadata": {},
   "source": [
    "давайте проверим его:\n",
    "1. Инициализруйте Гибридную модель с 10 эпохами, learning_rate = 0.05, по 4 имеющимся моделям и обучите на holdout выборке\n",
    "2. Посчитайте root mean squared error с использованием метрики из sklearn для получившегося результата\n",
    "3. Отобразите на графике результаты метрики, полученые от одиночных моделей на предыдущих шагах вместе с результатом гибридной модели. Оцените результат"
   ]
  },
  {
   "cell_type": "code",
   "execution_count": 16,
   "metadata": {},
   "outputs": [
    {
     "name": "stdout",
     "output_type": "stream",
     "text": [
      "MAE:  0.6109\n",
      "MAE:  0.6245\n",
      "MAE:  0.5885\n",
      "MAE:  0.3076\n"
     ]
    }
   ],
   "source": [
    "from sklearn.metrics import mean_squared_error\n",
    "from math import sqrt\n",
    "\n",
    "# -- TODO --\n",
    "estimators = [collabKNN, funkSVD, coClus, slopeOne]\n",
    "hybrid = HybridFacto(epochs=10, learning_rate=0.05, q=4, estimators=estimators)\n",
    "hybrid.fit(holdout)\n"
   ]
  },
  {
   "cell_type": "code",
   "execution_count": 17,
   "metadata": {},
   "outputs": [],
   "source": [
    "rmseHyb = []\n",
    "for trainset, testset in kSplit.split(data):\n",
    "    predhybrid = hybrid.estimate(testset)\n",
    "    test_r = [i[2] for i in testset]\n",
    "    rmse_hyb = mean_squared_error(test_r, predhybrid, squared=False)\n",
    "    rmseHyb.append(rmse_hyb)"
   ]
  },
  {
   "cell_type": "code",
   "execution_count": 18,
   "metadata": {},
   "outputs": [
    {
     "data": {
      "text/plain": [
       "[0.6675642196949859,\n",
       " 0.6642398323006417,\n",
       " 0.6648591893286615,\n",
       " 0.6674092445897883,\n",
       " 0.6657893155788766,\n",
       " 0.6665508744631307,\n",
       " 0.668435474721988,\n",
       " 0.6666598675120283,\n",
       " 0.6686583136222004,\n",
       " 0.6641628406002567]"
      ]
     },
     "execution_count": 18,
     "metadata": {},
     "output_type": "execute_result"
    }
   ],
   "source": [
    "rmseHyb"
   ]
  },
  {
   "cell_type": "code",
   "execution_count": 19,
   "metadata": {},
   "outputs": [
    {
     "data": {
      "text/plain": [
       "<matplotlib.legend.Legend at 0x149a51fd0>"
      ]
     },
     "execution_count": 19,
     "metadata": {},
     "output_type": "execute_result"
    },
    {
     "data": {
      "image/png": "[encoded data removed]",
      "text/plain": [
       "<Figure size 432x288 with 1 Axes>"
      ]
     },
     "metadata": {
      "needs_background": "light"
     },
     "output_type": "display_data"
    }
   ],
   "source": [
    "#plotting the prediction data:\n",
    "\n",
    "import matplotlib.pyplot as plt\n",
    "modelPrediction = plt.plot(rmseKNN,label='knn')\n",
    "modelPrediction = plt.plot(rmseSVD,label='svd')\n",
    "modelPrediction = plt.plot(rmseCo,label='cluster')\n",
    "modelPrediction = plt.plot(rmseSlope,label='slope')\n",
    "modelPrediction = plt.plot(rmseHyb,label='Hybrid')\n",
    "\n",
    "modelPrediction = plt.xlabel('folds')\n",
    "modelPrediction = plt.ylabel('rmse')\n",
    "plt.legend(bbox_to_anchor=(1.05, 1), loc=2, borderaxespad=0.)"
   ]
  }
 ],
 "metadata": {
  "kernelspec": {
   "display_name": "Python 3.8.13 ('article')",
   "language": "python",
   "name": "python3"
  },
  "language_info": {
   "codemirror_mode": {
    "name": "ipython",
    "version": 3
   },
   "file_extension": ".py",
   "mimetype": "text/x-python",
   "name": "python",
   "nbconvert_exporter": "python",
   "pygments_lexer": "ipython3",
   "version": "3.8.13"
  },
  "vscode": {
   "interpreter": {
    "hash": "a2c5780acc6a1a7032bf798dbdf9a65349f4477246c6308bb1f6d7b31934368c"
   }
  }
 },
 "nbformat": 4,
 "nbformat_minor": 1
}
